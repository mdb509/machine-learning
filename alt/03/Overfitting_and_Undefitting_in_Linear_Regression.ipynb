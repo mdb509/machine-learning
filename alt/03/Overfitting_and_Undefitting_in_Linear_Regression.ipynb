{
  "cells": [
    {
      "cell_type": "markdown",
      "id": "3d6d2717",
      "metadata": {
        "id": "3d6d2717"
      },
      "source": [
        "# Overfitting and Undefitting in Linear Regression"
      ]
    },
    {
      "cell_type": "markdown",
      "id": "13b376c8",
      "metadata": {
        "id": "13b376c8"
      },
      "source": [
        "Let's start by importing *numpy*."
      ]
    },
    {
      "cell_type": "code",
      "execution_count": 1,
      "id": "503cd9fe",
      "metadata": {
        "id": "503cd9fe"
      },
      "outputs": [],
      "source": [
        "import numpy as np"
      ]
    },
    {
      "cell_type": "markdown",
      "id": "2b41443c",
      "metadata": {
        "id": "2b41443c"
      },
      "source": [
        "### 1. Function for fitting $w$ using closed form\n",
        "\n",
        "$w = (X^T X)^{-1} X^T y$\n"
      ]
    },
    {
      "cell_type": "code",
      "execution_count": 2,
      "id": "9a475212",
      "metadata": {
        "id": "9a475212"
      },
      "outputs": [],
      "source": [
        "def fit(X, y):\n",
        "    w = np.linalg.inv(X.T@X)@X.T@y\n",
        "    return w"
      ]
    },
    {
      "cell_type": "markdown",
      "id": "80191981",
      "metadata": {
        "id": "80191981"
      },
      "source": [
        "### 2. Function for predicting given $w$\n",
        "\n",
        "$\\hat{y} = Xw$\n"
      ]
    },
    {
      "cell_type": "code",
      "execution_count": 3,
      "id": "72f7e78a",
      "metadata": {
        "id": "72f7e78a"
      },
      "outputs": [],
      "source": [
        "def predict(X, w):\n",
        "    return X@w"
      ]
    },
    {
      "cell_type": "markdown",
      "id": "bc8034c3",
      "metadata": {
        "id": "bc8034c3"
      },
      "source": [
        "### 3. Function for computing Mean Squared Error\n",
        "\n",
        "$MSE = \\frac{1}{M}\\sum^{M}_{i=1} {(y_i, \\hat{y}_i)^2}$"
      ]
    },
    {
      "cell_type": "code",
      "execution_count": 4,
      "id": "9e574be8",
      "metadata": {
        "id": "9e574be8"
      },
      "outputs": [],
      "source": [
        "def mse(y_pred, y_true):\n",
        "    return np.mean((y_pred-y_true)**2)"
      ]
    },
    {
      "cell_type": "markdown",
      "id": "06d4e27b",
      "metadata": {
        "id": "06d4e27b"
      },
      "source": [
        "### 4. Defining the training data\n",
        "\n",
        "We use the provided data and we add a column of *ones* that will allow us to learn the bias term."
      ]
    },
    {
      "cell_type": "code",
      "execution_count": 5,
      "id": "8882117d",
      "metadata": {
        "id": "8882117d"
      },
      "outputs": [],
      "source": [
        "X_train = np.array([\n",
        "    [1, -0.8, 2.8],\n",
        "    [1, 0.3, -2.2],\n",
        "    [1, 1.5, 1.1]\n",
        "])\n",
        "y_train = np.array([\n",
        "    [-8.5],\n",
        "    [12.8],\n",
        "    [3.8]\n",
        "])"
      ]
    },
    {
      "cell_type": "code",
      "execution_count": 6,
      "id": "763d3b54",
      "metadata": {
        "id": "763d3b54"
      },
      "outputs": [],
      "source": [
        "X_test = np.array([\n",
        "    [1, -2,2],\n",
        "    [1, -4,15]\n",
        "])\n",
        "y_test = np.array([\n",
        "    [-7],\n",
        "    [-63]\n",
        "])"
      ]
    },
    {
      "cell_type": "markdown",
      "id": "376fd2a0",
      "metadata": {
        "id": "376fd2a0"
      },
      "source": [
        "### 5. Model that overfits:\n",
        "\n",
        "We need a complex model, in this case, with a lot of parameters/input features. We can create new features by multiplying $x_1$ (first column features) with $x_2$ (second column features), and squaring $x_1$, $x_2$. So our new features are:\n",
        "\n",
        "- $x_1 = x_1$\n",
        "- $x_2 = x_2$\n",
        "- $x_3 = x_1 \\cdot x_2$\n",
        "- $x_4 = x_1^2$\n",
        "- $x_5 = x_2^2$\n",
        "\n",
        "Thefore, we need to find the weights of a polynomial model ($w_0$ is the bias):\n",
        "\n",
        "$\\hat{y} = w_0 +w_1\\cdot x_1+w_2\\cdot x_2+w_3\\cdot x_3+w_4\\cdot x_4+w_5\\cdot x_5 $\n",
        "\n",
        "$\\hat{y} = w_0 +w_1\\cdot x_1+w_2\\cdot x_2+w_3\\cdot x_1 \\cdot x_2+w_4\\cdot x_1^2+w_5\\cdot x_2^2 $\n"
      ]
    },
    {
      "cell_type": "code",
      "execution_count": 7,
      "id": "878d2b7d",
      "metadata": {
        "id": "878d2b7d"
      },
      "outputs": [],
      "source": [
        "def transform_features (X):\n",
        "\n",
        "    #transform\n",
        "    x3 = np.multiply(X[:,1],X[:,2]) #element-wise multiplication\n",
        "    x4 = X[:,1]**2\n",
        "    x5 = X[:,2]**2\n",
        "\n",
        "    #reshape, from column vectors (with shape [3])\n",
        "    n_samples = X.shape[0]\n",
        "    x3 = x3.reshape(n_samples,1)\n",
        "    x4 = x4.reshape(n_samples,1)\n",
        "    x5 = x5.reshape(n_samples,1)\n",
        "\n",
        "    new_X = np.concatenate((X, x3 ,x4,x5), axis=1)\n",
        "    return new_X"
      ]
    },
    {
      "cell_type": "code",
      "execution_count": 8,
      "id": "80164f4c",
      "metadata": {
        "colab": {
          "base_uri": "https://localhost:8080/"
        },
        "id": "80164f4c",
        "outputId": "aba19ec5-8e26-47a4-88b5-08e9836c7b29"
      },
      "outputs": [
        {
          "output_type": "stream",
          "name": "stdout",
          "text": [
            "Matrix size before transformation: (3, 3)\n",
            "Matrix size after transformation: (3, 6)\n"
          ]
        }
      ],
      "source": [
        "X_train_new = transform_features(X_train)\n",
        "\n",
        "print(\"Matrix size before transformation:\", X_train.shape)\n",
        "print(\"Matrix size after transformation:\", X_train_new.shape)"
      ]
    },
    {
      "cell_type": "markdown",
      "id": "333dbd04",
      "metadata": {
        "id": "333dbd04"
      },
      "source": [
        "Now we find $w$, predict and  compute MSE for train:"
      ]
    },
    {
      "cell_type": "code",
      "execution_count": 9,
      "id": "972c68b2",
      "metadata": {
        "colab": {
          "base_uri": "https://localhost:8080/"
        },
        "id": "972c68b2",
        "outputId": "d25fc6a9-2c66-4e54-ef95-09ac6ad97157"
      },
      "outputs": [
        {
          "output_type": "stream",
          "name": "stdout",
          "text": [
            "MSE for train: 4.633360052177744\n"
          ]
        }
      ],
      "source": [
        "w = fit(X_train_new, y_train)\n",
        "y_pred = predict(X_train_new, w)\n",
        "mse_train = mse(y_pred, y_train)\n",
        "print(\"MSE for train:\", mse_train)"
      ]
    },
    {
      "cell_type": "markdown",
      "id": "2215e6bb",
      "metadata": {
        "id": "2215e6bb"
      },
      "source": [
        "Compute the MSE for test:"
      ]
    },
    {
      "cell_type": "code",
      "execution_count": 10,
      "id": "e99ab31d",
      "metadata": {
        "colab": {
          "base_uri": "https://localhost:8080/"
        },
        "id": "e99ab31d",
        "outputId": "8e5fa4c3-5c56-4b81-9d33-c855d8c8eec7"
      },
      "outputs": [
        {
          "output_type": "stream",
          "name": "stdout",
          "text": [
            "MSE for test: 1500.3313803053643\n"
          ]
        }
      ],
      "source": [
        "X_test_new = transform_features(X_test)\n",
        "y_pred = predict(X_test_new, w)\n",
        "mse_test = mse(y_pred, y_test)\n",
        "print(\"MSE for test:\", mse_test)"
      ]
    },
    {
      "cell_type": "markdown",
      "id": "97f000b1",
      "metadata": {
        "id": "97f000b1"
      },
      "source": [
        "### 6. Model that underfits:\n",
        "\n",
        "We need a simple model. In this case, we choose a model that has only one variable $x_1$.\n",
        "\n",
        "\n",
        "Therefore, we need to find the weights of a polynomial model:\n",
        "\n",
        "$\\hat{y} = w_0 + w_1\\cdot x_1$"
      ]
    },
    {
      "cell_type": "code",
      "execution_count": 11,
      "id": "06c6c0fb",
      "metadata": {
        "id": "06c6c0fb"
      },
      "outputs": [],
      "source": [
        "def transform_features (X):\n",
        "\n",
        "    #transform\n",
        "    new_X = X[:,:2] # selects the first two columns\n",
        "    return new_X"
      ]
    },
    {
      "cell_type": "code",
      "execution_count": 12,
      "id": "ec907007",
      "metadata": {
        "colab": {
          "base_uri": "https://localhost:8080/"
        },
        "id": "ec907007",
        "outputId": "2a17a749-0afb-4cfa-a505-22009cc0bcbe"
      },
      "outputs": [
        {
          "output_type": "stream",
          "name": "stdout",
          "text": [
            "MSE for train: 52.78806045340051\n",
            "MSE for test: 943.0735529696908\n"
          ]
        }
      ],
      "source": [
        "X_train_new = transform_features(X_train)\n",
        "w = fit(X_train_new, y_train)\n",
        "y_pred = predict(X_train_new, w)\n",
        "mse_train = mse(y_pred, y_train)\n",
        "print(\"MSE for train:\", mse_train)\n",
        "\n",
        "X_test_new = transform_features(X_test)\n",
        "y_pred = predict(X_test_new, w)\n",
        "mse_test = mse(y_pred, y_test)\n",
        "print(\"MSE for test:\", mse_test)"
      ]
    },
    {
      "cell_type": "markdown",
      "id": "76a90d1b",
      "metadata": {
        "id": "76a90d1b"
      },
      "source": [
        "### 7. Model that fits well:\n",
        "\n",
        "We need a simple model. In this case, we choose a model that is neither too simple nor too complex. In this case we simply do not apply any transformation.\n",
        "\n",
        "\n",
        "Thefore, we need to find the weights of a polynomial model:\n",
        "\n",
        "$\\hat{y} = w_0 + w_1\\cdot x_1 + w_1\\cdot x_2$"
      ]
    },
    {
      "cell_type": "code",
      "execution_count": 13,
      "id": "a8dd7351",
      "metadata": {
        "id": "a8dd7351"
      },
      "outputs": [],
      "source": [
        "def transform_features (X):\n",
        "\n",
        "    #transform\n",
        "    new_X = X\n",
        "    return new_X"
      ]
    },
    {
      "cell_type": "code",
      "execution_count": 14,
      "id": "e31333a5",
      "metadata": {
        "colab": {
          "base_uri": "https://localhost:8080/"
        },
        "id": "e31333a5",
        "outputId": "ef8df03e-fb32-4d54-da31-5a871fca2050"
      },
      "outputs": [
        {
          "output_type": "stream",
          "name": "stdout",
          "text": [
            "MSE for train: 5.850718380389171e-30\n",
            "MSE for test: 2.1423923486767538\n"
          ]
        }
      ],
      "source": [
        "X_train_new = transform_features(X_train)\n",
        "w = fit(X_train_new, y_train)\n",
        "y_pred = predict(X_train_new, w)\n",
        "mse_train = mse(y_pred, y_train)\n",
        "print(\"MSE for train:\", mse_train)\n",
        "\n",
        "X_test_new = transform_features(X_test)\n",
        "y_pred = predict(X_test_new, w)\n",
        "mse_test = mse(y_pred, y_test)\n",
        "print(\"MSE for test:\", mse_test)"
      ]
    },
    {
      "cell_type": "code",
      "execution_count": 15,
      "id": "00584174",
      "metadata": {
        "colab": {
          "base_uri": "https://localhost:8080/"
        },
        "id": "00584174",
        "outputId": "8ed74821-214f-4096-e4af-ab9e5d60d529"
      },
      "outputs": [
        {
          "output_type": "stream",
          "name": "stdout",
          "text": [
            "[[ 3.91121495]\n",
            " [ 2.62616822]\n",
            " [-3.68224299]]\n"
          ]
        }
      ],
      "source": [
        "print(w)"
      ]
    },
    {
      "cell_type": "markdown",
      "id": "23d0640e",
      "metadata": {
        "id": "23d0640e"
      },
      "source": [
        "### 8. Analysis\n",
        "\n",
        "We now summarize the results in the following table:\n",
        "\n",
        "\n",
        "|              | Train Error | Test Error |\n",
        "|-------------------|:---------:|:---------:|\n",
        "| Overfitted Model |    4.63 | 1500.33    |\n",
        "| Underfitted Model         |   52.79  |   943.07 |\n",
        "| Well-fitted Model        |   0  |   2.14  |\n",
        "\n",
        "\n",
        "We can notice that the overfitted model has (comparatively) a low train error but a high test error. The underfitted model has high train error and test error, while the well-fitted model has low train and test error.\n",
        "\n",
        "### Notes\n",
        "- The definition of high and low error is relative, so it depends always on the problem. Therefore, we compare among different model versions (models with different complexities) to understand what is high and what is low.\n",
        "- In this exercise, we knew the ground truth model. The true function was: $y = 5 + 2x_1 - 4x_2$.\n",
        "- Please do not confuse the bias term $w_0$ (or intercept) with high bias. They are different concepts.\n"
      ]
    }
  ],
  "metadata": {
    "kernelspec": {
      "display_name": "Python 3",
      "language": "python",
      "name": "python3"
    },
    "language_info": {
      "codemirror_mode": {
        "name": "ipython",
        "version": 3
      },
      "file_extension": ".py",
      "mimetype": "text/x-python",
      "name": "python",
      "nbconvert_exporter": "python",
      "pygments_lexer": "ipython3",
      "version": "3.8.8"
    },
    "colab": {
      "provenance": []
    }
  },
  "nbformat": 4,
  "nbformat_minor": 5
}